{
 "cells": [
  {
   "cell_type": "markdown",
   "metadata": {},
   "source": [
    "# 8 Node QUAD - Serendipity"
   ]
  },
  {
   "cell_type": "code",
   "execution_count": 329,
   "metadata": {},
   "outputs": [],
   "source": [
    "# Importamos dependencias\n",
    "import numpy as np\n",
    "import sympy as sp"
   ]
  },
  {
   "cell_type": "markdown",
   "metadata": {},
   "source": [
    "## Funciones de forma"
   ]
  },
  {
   "cell_type": "code",
   "execution_count": 330,
   "metadata": {},
   "outputs": [],
   "source": [
    "ζ, η = sp.symbols('ζ η')"
   ]
  },
  {
   "cell_type": "code",
   "execution_count": 331,
   "metadata": {},
   "outputs": [],
   "source": [
    "# Define symbols\n",
    "ζ, η = sp.symbols('ζ η')\n",
    "\n",
    "# Define and process N1\n",
    "N1 = ((ζ-1)*(η-1)*(ζ+η+1))\n",
    "N1 = sp.expand(N1)\n",
    "N1 = sp.collect(N1, [ζ**2, η**2])\n",
    "N1 = sp.collect(N1, [ζ, η])\n",
    "N1 = N1 / 4\n",
    "\n",
    "dN1_dζ=sp.diff(N1,ζ)\n",
    "dN1_dζ=sp.collect(dN1_dζ, [ζ, η])\n",
    "\n",
    "dN1_dη=sp.diff(N1,η)\n",
    "dN1_dη=sp.collect(dN1_dη, [ζ, η])\n",
    "\n"
   ]
  },
  {
   "cell_type": "code",
   "execution_count": 332,
   "metadata": {},
   "outputs": [],
   "source": [
    "# Define and process N2\n",
    "N2 = ((ζ+1)*(η-1)*(-ζ+η+1))\n",
    "N2 = sp.expand(N2)\n",
    "N2 = sp.collect(N2, [ζ**2, η**2])\n",
    "N2 = N2 / 4\n",
    "\n",
    "dN2_dζ=sp.diff(N2,ζ)\n",
    "dN2_dζ=sp.collect(dN2_dζ, [ζ, η])\n",
    "\n",
    "dN2_dη=sp.diff(N2,η)\n",
    "dN2_dη=sp.collect(dN2_dη, [ζ, η])\n"
   ]
  },
  {
   "cell_type": "code",
   "execution_count": 333,
   "metadata": {},
   "outputs": [],
   "source": [
    "# Define and process N3\n",
    "N3 = ((ζ+1)*(η+1)*(ζ+η-1))\n",
    "N3 = sp.expand(N3)\n",
    "N3 = sp.collect(N3, [ζ**2, η**2])\n",
    "N3 = N3 / 4\n",
    "\n",
    "dN3_dζ=sp.diff(N3,ζ)\n",
    "dN3_dζ=sp.collect(dN3_dζ, [ζ, η])\n",
    "\n",
    "dN3_dη=sp.diff(N3,η)\n",
    "dN3_dη=sp.collect(dN3_dη, [ζ, η])\n"
   ]
  },
  {
   "cell_type": "code",
   "execution_count": 334,
   "metadata": {},
   "outputs": [],
   "source": [
    "# Define and process N4\n",
    "N4 = ((ζ-1)*(η+1)*(-ζ+η-1))\n",
    "N4 = sp.expand(N4)\n",
    "N4 = sp.collect(N4, [ζ**2, η**2])\n",
    "N4 = N4 / 4\n",
    "\n",
    "dN4_dζ=sp.diff(N4,ζ)\n",
    "dN4_dζ=sp.collect(dN4_dζ, [ζ, η])\n",
    "\n",
    "dN4_dη=sp.diff(N4,η)\n",
    "dN4_dη=sp.collect(dN4_dη, [ζ, η])\n"
   ]
  },
  {
   "cell_type": "code",
   "execution_count": 335,
   "metadata": {},
   "outputs": [],
   "source": [
    "# Define and process N5\n",
    "N5 = ((ζ**2-1)*(η-1))\n",
    "N5 = sp.expand(N5)\n",
    "N5 = sp.collect(N5, [ζ**2])\n",
    "N5 = sp.collect(N5, [η-1])\n",
    "N5 = N5 / 4\n",
    "\n",
    "dN5_dζ=sp.diff(N5,ζ)\n",
    "dN5_dζ=sp.collect(dN5_dζ, [ζ, η])\n",
    "\n",
    "dN5_dη=sp.diff(N5,η)\n",
    "dN5_dη=sp.collect(dN5_dη, [ζ, η])\n"
   ]
  },
  {
   "cell_type": "code",
   "execution_count": 336,
   "metadata": {},
   "outputs": [],
   "source": [
    "# Define and process N6\n",
    "N6 = ((-ζ-1)*(η**2-1))\n",
    "N6 = sp.expand(N6)\n",
    "N6 = sp.collect(N6, [η**2])\n",
    "N6 = sp.collect(N6, [ζ+1])\n",
    "N6 = N6 / 4\n",
    "\n",
    "dN6_dζ=sp.diff(N6,ζ)\n",
    "dN6_dζ=sp.collect(dN6_dζ, [ζ, η])\n",
    "\n",
    "dN6_dη=sp.diff(N6,η)\n",
    "dN6_dη=sp.collect(dN6_dη, [ζ, η])\n"
   ]
  },
  {
   "cell_type": "code",
   "execution_count": 337,
   "metadata": {},
   "outputs": [],
   "source": [
    "# Define and process N7\n",
    "N7 = ((ζ**2-1)*(-η-1))\n",
    "N7 = sp.expand(N7)\n",
    "N7 = sp.collect(N7, [ζ**2])\n",
    "N7 = sp.collect(N7, [η+1])\n",
    "N7 = N7 / 4\n",
    "\n",
    "dN7_dζ=sp.diff(N7,ζ)\n",
    "dN7_dζ=sp.collect(dN7_dζ, [ζ, η])\n",
    "\n",
    "dN7_dη=sp.diff(N7,η)\n",
    "dN7_dη=sp.collect(dN7_dη, [ζ, η])\n"
   ]
  },
  {
   "cell_type": "code",
   "execution_count": 338,
   "metadata": {},
   "outputs": [],
   "source": [
    "# Define and process N8\n",
    "N8 = ((ζ-1)*(η**2-1))\n",
    "N8 = sp.expand(N8)\n",
    "N8 = sp.collect(N8, [η**2])\n",
    "N8 = sp.collect(N8, [ζ-1])\n",
    "N8 = N8 / 4\n",
    "\n",
    "dN8_dζ=sp.diff(N8,ζ)\n",
    "dN8_dζ=sp.collect(dN8_dζ, [ζ, η])\n",
    "\n",
    "dN8_dη=sp.diff(N8,η)\n",
    "dN8_dη=sp.collect(dN8_dη, [ζ, η])"
   ]
  },
  {
   "cell_type": "code",
   "execution_count": 339,
   "metadata": {},
   "outputs": [
    {
     "name": "stdout",
     "output_type": "stream",
     "text": [
      "Las funciones de forma del elemento son:\n"
     ]
    },
    {
     "data": {
      "text/latex": [
       "$\\displaystyle \\frac{ζ^{2} \\left(η - 1\\right)}{4} - \\frac{ζ η}{4} + \\frac{η^{2} \\left(ζ - 1\\right)}{4} + \\frac{1}{4}$"
      ],
      "text/plain": [
       "ζ**2*(η - 1)/4 - ζ*η/4 + η**2*(ζ - 1)/4 + 1/4"
      ]
     },
     "metadata": {},
     "output_type": "display_data"
    },
    {
     "data": {
      "text/latex": [
       "$\\displaystyle \\frac{ζ^{2} \\cdot \\left(1 - η\\right)}{4} - \\frac{ζ η}{4} + \\frac{η^{2} \\left(ζ + 1\\right)}{4} - \\frac{1}{4}$"
      ],
      "text/plain": [
       "ζ**2*(1 - η)/4 - ζ*η/4 + η**2*(ζ + 1)/4 - 1/4"
      ]
     },
     "metadata": {},
     "output_type": "display_data"
    },
    {
     "data": {
      "text/latex": [
       "$\\displaystyle \\frac{ζ^{2} \\left(η + 1\\right)}{4} + \\frac{ζ η}{4} + \\frac{η^{2} \\left(ζ + 1\\right)}{4} - \\frac{1}{4}$"
      ],
      "text/plain": [
       "ζ**2*(η + 1)/4 + ζ*η/4 + η**2*(ζ + 1)/4 - 1/4"
      ]
     },
     "metadata": {},
     "output_type": "display_data"
    },
    {
     "data": {
      "text/latex": [
       "$\\displaystyle \\frac{ζ^{2} \\left(- η - 1\\right)}{4} + \\frac{ζ η}{4} + \\frac{η^{2} \\left(ζ - 1\\right)}{4} + \\frac{1}{4}$"
      ],
      "text/plain": [
       "ζ**2*(-η - 1)/4 + ζ*η/4 + η**2*(ζ - 1)/4 + 1/4"
      ]
     },
     "metadata": {},
     "output_type": "display_data"
    },
    {
     "data": {
      "text/latex": [
       "$\\displaystyle \\frac{\\left(ζ^{2} - 1\\right) \\left(η - 1\\right)}{4}$"
      ],
      "text/plain": [
       "(ζ**2 - 1)*(η - 1)/4"
      ]
     },
     "metadata": {},
     "output_type": "display_data"
    },
    {
     "data": {
      "text/latex": [
       "$\\displaystyle \\frac{\\left(1 - η^{2}\\right) \\left(ζ + 1\\right)}{4}$"
      ],
      "text/plain": [
       "(1 - η**2)*(ζ + 1)/4"
      ]
     },
     "metadata": {},
     "output_type": "display_data"
    },
    {
     "data": {
      "text/latex": [
       "$\\displaystyle \\frac{\\left(1 - ζ^{2}\\right) \\left(η + 1\\right)}{4}$"
      ],
      "text/plain": [
       "(1 - ζ**2)*(η + 1)/4"
      ]
     },
     "metadata": {},
     "output_type": "display_data"
    },
    {
     "data": {
      "text/latex": [
       "$\\displaystyle \\frac{\\left(ζ - 1\\right) \\left(η^{2} - 1\\right)}{4}$"
      ],
      "text/plain": [
       "(ζ - 1)*(η**2 - 1)/4"
      ]
     },
     "metadata": {},
     "output_type": "display_data"
    }
   ],
   "source": [
    "print('Las funciones de forma del elemento son:')\n",
    "\n",
    "display(N1)\n",
    "display(N2)\n",
    "display(N3)\n",
    "display(N4)\n",
    "display(N5)\n",
    "display(N6)\n",
    "display(N7)\n",
    "display(N8)\n",
    "\n"
   ]
  },
  {
   "cell_type": "code",
   "execution_count": 340,
   "metadata": {},
   "outputs": [
    {
     "name": "stdout",
     "output_type": "stream",
     "text": [
      "Las derivadas parciales con respecto a zeta son:\n"
     ]
    },
    {
     "data": {
      "text/latex": [
       "$\\displaystyle ζ \\left(\\frac{η}{2} - \\frac{1}{2}\\right) + \\frac{η^{2}}{4} - \\frac{η}{4}$"
      ],
      "text/plain": [
       "ζ*(η/2 - 1/2) + η**2/4 - η/4"
      ]
     },
     "metadata": {},
     "output_type": "display_data"
    },
    {
     "data": {
      "text/latex": [
       "$\\displaystyle ζ \\left(\\frac{1}{2} - \\frac{η}{2}\\right) + \\frac{η^{2}}{4} - \\frac{η}{4}$"
      ],
      "text/plain": [
       "ζ*(1/2 - η/2) + η**2/4 - η/4"
      ]
     },
     "metadata": {},
     "output_type": "display_data"
    },
    {
     "data": {
      "text/latex": [
       "$\\displaystyle ζ \\left(\\frac{η}{2} + \\frac{1}{2}\\right) + \\frac{η^{2}}{4} + \\frac{η}{4}$"
      ],
      "text/plain": [
       "ζ*(η/2 + 1/2) + η**2/4 + η/4"
      ]
     },
     "metadata": {},
     "output_type": "display_data"
    },
    {
     "data": {
      "text/latex": [
       "$\\displaystyle ζ \\left(- \\frac{η}{2} - \\frac{1}{2}\\right) + \\frac{η^{2}}{4} + \\frac{η}{4}$"
      ],
      "text/plain": [
       "ζ*(-η/2 - 1/2) + η**2/4 + η/4"
      ]
     },
     "metadata": {},
     "output_type": "display_data"
    },
    {
     "data": {
      "text/latex": [
       "$\\displaystyle \\frac{ζ \\left(η - 1\\right)}{2}$"
      ],
      "text/plain": [
       "ζ*(η - 1)/2"
      ]
     },
     "metadata": {},
     "output_type": "display_data"
    },
    {
     "data": {
      "text/latex": [
       "$\\displaystyle \\frac{1}{4} - \\frac{η^{2}}{4}$"
      ],
      "text/plain": [
       "1/4 - η**2/4"
      ]
     },
     "metadata": {},
     "output_type": "display_data"
    },
    {
     "data": {
      "text/latex": [
       "$\\displaystyle - \\frac{ζ \\left(η + 1\\right)}{2}$"
      ],
      "text/plain": [
       "-ζ*(η + 1)/2"
      ]
     },
     "metadata": {},
     "output_type": "display_data"
    },
    {
     "data": {
      "text/latex": [
       "$\\displaystyle \\frac{η^{2}}{4} - \\frac{1}{4}$"
      ],
      "text/plain": [
       "η**2/4 - 1/4"
      ]
     },
     "metadata": {},
     "output_type": "display_data"
    }
   ],
   "source": [
    "print('Las derivadas parciales con respecto a zeta son:')\n",
    "\n",
    "display(dN1_dζ)\n",
    "display(dN2_dζ)\n",
    "display(dN3_dζ)\n",
    "display(dN4_dζ)\n",
    "display(dN5_dζ)\n",
    "display(dN6_dζ)\n",
    "display(dN7_dζ)\n",
    "display(dN8_dζ)"
   ]
  },
  {
   "cell_type": "code",
   "execution_count": 341,
   "metadata": {},
   "outputs": [
    {
     "name": "stdout",
     "output_type": "stream",
     "text": [
      "Las derivadas parciales con respecto a eta son:\n"
     ]
    },
    {
     "data": {
      "text/latex": [
       "$\\displaystyle \\frac{ζ^{2}}{4} - \\frac{ζ}{4} + η \\left(\\frac{ζ}{2} - \\frac{1}{2}\\right)$"
      ],
      "text/plain": [
       "ζ**2/4 - ζ/4 + η*(ζ/2 - 1/2)"
      ]
     },
     "metadata": {},
     "output_type": "display_data"
    },
    {
     "data": {
      "text/latex": [
       "$\\displaystyle - \\frac{ζ^{2}}{4} - \\frac{ζ}{4} + η \\left(\\frac{ζ}{2} + \\frac{1}{2}\\right)$"
      ],
      "text/plain": [
       "-ζ**2/4 - ζ/4 + η*(ζ/2 + 1/2)"
      ]
     },
     "metadata": {},
     "output_type": "display_data"
    },
    {
     "data": {
      "text/latex": [
       "$\\displaystyle \\frac{ζ^{2}}{4} + \\frac{ζ}{4} + η \\left(\\frac{ζ}{2} + \\frac{1}{2}\\right)$"
      ],
      "text/plain": [
       "ζ**2/4 + ζ/4 + η*(ζ/2 + 1/2)"
      ]
     },
     "metadata": {},
     "output_type": "display_data"
    },
    {
     "data": {
      "text/latex": [
       "$\\displaystyle - \\frac{ζ^{2}}{4} + \\frac{ζ}{4} + η \\left(\\frac{ζ}{2} - \\frac{1}{2}\\right)$"
      ],
      "text/plain": [
       "-ζ**2/4 + ζ/4 + η*(ζ/2 - 1/2)"
      ]
     },
     "metadata": {},
     "output_type": "display_data"
    },
    {
     "data": {
      "text/latex": [
       "$\\displaystyle \\frac{ζ^{2}}{4} - \\frac{1}{4}$"
      ],
      "text/plain": [
       "ζ**2/4 - 1/4"
      ]
     },
     "metadata": {},
     "output_type": "display_data"
    },
    {
     "data": {
      "text/latex": [
       "$\\displaystyle - \\frac{η \\left(ζ + 1\\right)}{2}$"
      ],
      "text/plain": [
       "-η*(ζ + 1)/2"
      ]
     },
     "metadata": {},
     "output_type": "display_data"
    },
    {
     "data": {
      "text/latex": [
       "$\\displaystyle \\frac{1}{4} - \\frac{ζ^{2}}{4}$"
      ],
      "text/plain": [
       "1/4 - ζ**2/4"
      ]
     },
     "metadata": {},
     "output_type": "display_data"
    },
    {
     "data": {
      "text/latex": [
       "$\\displaystyle \\frac{η \\left(ζ - 1\\right)}{2}$"
      ],
      "text/plain": [
       "η*(ζ - 1)/2"
      ]
     },
     "metadata": {},
     "output_type": "display_data"
    }
   ],
   "source": [
    "print('Las derivadas parciales con respecto a eta son:')\n",
    "\n",
    "display(dN1_dη)\n",
    "display(dN2_dη)\n",
    "display(dN3_dη)\n",
    "display(dN4_dη)\n",
    "display(dN5_dη)\n",
    "display(dN6_dη)\n",
    "display(dN7_dη)\n",
    "display(dN8_dη)"
   ]
  }
 ],
 "metadata": {
  "kernelspec": {
   "display_name": "base",
   "language": "python",
   "name": "python3"
  },
  "language_info": {
   "codemirror_mode": {
    "name": "ipython",
    "version": 3
   },
   "file_extension": ".py",
   "mimetype": "text/x-python",
   "name": "python",
   "nbconvert_exporter": "python",
   "pygments_lexer": "ipython3",
   "version": "3.11.5"
  }
 },
 "nbformat": 4,
 "nbformat_minor": 2
}
